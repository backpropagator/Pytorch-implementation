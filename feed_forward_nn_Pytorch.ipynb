{
  "nbformat": 4,
  "nbformat_minor": 0,
  "metadata": {
    "colab": {
      "name": "feed_forward_nn_Pytorch.ipynb",
      "version": "0.3.2",
      "provenance": []
    },
    "kernelspec": {
      "name": "python3",
      "display_name": "Python 3"
    },
    "accelerator": "GPU"
  },
  "cells": [
    {
      "metadata": {
        "id": "QTo49l93-uza",
        "colab_type": "text"
      },
      "cell_type": "markdown",
      "source": [
        "###  installing torch and torchvision for google colab"
      ]
    },
    {
      "metadata": {
        "id": "1aeD6X7ZhToh",
        "colab_type": "code",
        "colab": {}
      },
      "cell_type": "code",
      "source": [
        "!pip3 install torch torchvision"
      ],
      "execution_count": 0,
      "outputs": []
    },
    {
      "metadata": {
        "id": "e3zMnM7T-6kw",
        "colab_type": "text"
      },
      "cell_type": "markdown",
      "source": [
        "### importing libraries"
      ]
    },
    {
      "metadata": {
        "id": "me-JJ6XniTll",
        "colab_type": "code",
        "colab": {}
      },
      "cell_type": "code",
      "source": [
        "import torch\n",
        "import torchvision\n",
        "import torchvision.transforms as transforms\n",
        "import torch.nn as nn\n",
        "import numpy as np\n",
        "import matplotlib.pyplot as plt\n"
      ],
      "execution_count": 0,
      "outputs": []
    },
    {
      "metadata": {
        "id": "ViX4xGOY_jjZ",
        "colab_type": "text"
      },
      "cell_type": "markdown",
      "source": [
        "### Downloading Fashion MNIST Dataset"
      ]
    },
    {
      "metadata": {
        "id": "KdsJgff0ixCi",
        "colab_type": "code",
        "colab": {}
      },
      "cell_type": "code",
      "source": [
        "train =torchvision.datasets.FashionMNIST('./data/train',train=True,download=True,transform=transforms.ToTensor())\n",
        "test =torchvision.datasets.FashionMNIST('./data/test',train=False,download=True,transform=transforms.ToTensor())\n"
      ],
      "execution_count": 0,
      "outputs": []
    },
    {
      "metadata": {
        "id": "opRI8G0o_uR8",
        "colab_type": "text"
      },
      "cell_type": "markdown",
      "source": [
        "### Plotting image"
      ]
    },
    {
      "metadata": {
        "id": "XjXWyJiv_Bx8",
        "colab_type": "code",
        "colab": {
          "base_uri": "https://localhost:8080/",
          "height": 34
        },
        "outputId": "a1fd3dc2-88d0-4b9f-ba9a-dc8b3733b891"
      },
      "cell_type": "code",
      "source": [
        "img=train[1751][0]\n",
        "img.size()"
      ],
      "execution_count": 200,
      "outputs": [
        {
          "output_type": "execute_result",
          "data": {
            "text/plain": [
              "torch.Size([1, 28, 28])"
            ]
          },
          "metadata": {
            "tags": []
          },
          "execution_count": 200
        }
      ]
    },
    {
      "metadata": {
        "id": "k5lbiVHK_JsQ",
        "colab_type": "code",
        "colab": {
          "base_uri": "https://localhost:8080/",
          "height": 337
        },
        "outputId": "88b9d25a-9a6c-47ca-95dc-ec9bb6ab1716"
      },
      "cell_type": "code",
      "source": [
        "plt.figure(figsize=(10,5))\n",
        "plt.imshow(img.reshape(28,28))"
      ],
      "execution_count": 201,
      "outputs": [
        {
          "output_type": "execute_result",
          "data": {
            "text/plain": [
              "<matplotlib.image.AxesImage at 0x7f6c682e77b8>"
            ]
          },
          "metadata": {
            "tags": []
          },
          "execution_count": 201
        },
        {
          "output_type": "display_data",
          "data": {
            "image/png": "[encoded data removed]",
            "text/plain": [
              "<matplotlib.figure.Figure at 0x7f6c683e9908>"
            ]
          },
          "metadata": {
            "tags": []
          }
        }
      ]
    },
    {
      "metadata": {
        "id": "adfPeuIv_0m0",
        "colab_type": "text"
      },
      "cell_type": "markdown",
      "source": [
        "### Setting of Parameters &Hyperparameters"
      ]
    },
    {
      "metadata": {
        "id": "IH5wc1Dnpsay",
        "colab_type": "code",
        "colab": {}
      },
      "cell_type": "code",
      "source": [
        "input_size=784\n",
        "hidden_size=500\n",
        "hidden_size2=500\n",
        "no_classes=10\n",
        "no_epochs=5\n",
        "batch_size=64\n",
        "lr=0.001"
      ],
      "execution_count": 0,
      "outputs": []
    },
    {
      "metadata": {
        "id": "5LKbKtce_-9S",
        "colab_type": "text"
      },
      "cell_type": "markdown",
      "source": [
        "###  Making DataLoader for required batch_size"
      ]
    },
    {
      "metadata": {
        "id": "aK0YSHpmqINY",
        "colab_type": "code",
        "colab": {}
      },
      "cell_type": "code",
      "source": [
        "train_loader=torch.utils.data.DataLoader(train,batch_size=batch_size,shuffle=True)\n",
        "test_loader=torch.utils.data.DataLoader(test,batch_size=batch_size,shuffle=False)"
      ],
      "execution_count": 0,
      "outputs": []
    },
    {
      "metadata": {
        "id": "vvjOzD9JAJrA",
        "colab_type": "text"
      },
      "cell_type": "markdown",
      "source": [
        "## Making Perceptron Model with 3 hidden Layer "
      ]
    },
    {
      "metadata": {
        "id": "PgB2xwaCqrn_",
        "colab_type": "code",
        "colab": {}
      },
      "cell_type": "code",
      "source": [
        "class NeuralNet(nn.Module):\n",
        "  def __init__(self,input_size,hidden_size,hidden_size2,no_classes):\n",
        "    super(NeuralNet,self).__init__()\n",
        "    self.fc1=nn.Linear(input_size,hidden_size)\n",
        "    self.relu1=nn.ReLU()\n",
        "    self.fc2=nn.Linear(hidden_size,hidden_size2)\n",
        "    self.relu2=nn.ReLU()\n",
        "    self.fc3=nn.Linear(hidden_size2,no_classes)\n",
        "    \n",
        "  def forward(self,x):\n",
        "    out=self.fc1(x)\n",
        "    out=self.relu1(out)\n",
        "    out=self.fc2(out)\n",
        "    out=self.relu2(out)\n",
        "    out=self.fc3(out)\n",
        "    return out \n",
        "  \n",
        "    "
      ],
      "execution_count": 0,
      "outputs": []
    },
    {
      "metadata": {
        "id": "RyM-1cZpAkbB",
        "colab_type": "text"
      },
      "cell_type": "markdown",
      "source": [
        "### Setting Loss function and training optimization algorithm"
      ]
    },
    {
      "metadata": {
        "id": "x3p_voyxs5VN",
        "colab_type": "code",
        "colab": {}
      },
      "cell_type": "code",
      "source": [
        "model=NeuralNet(input_size,hidden_size,hidden_size2,no_classes)"
      ],
      "execution_count": 0,
      "outputs": []
    },
    {
      "metadata": {
        "id": "P73S4gL6tOHz",
        "colab_type": "code",
        "colab": {}
      },
      "cell_type": "code",
      "source": [
        "criterion=nn.CrossEntropyLoss()\n",
        "optimizer= torch.optim.Adam(model.parameters(),lr=lr)"
      ],
      "execution_count": 0,
      "outputs": []
    },
    {
      "metadata": {
        "id": "ZydRnkesAxe4",
        "colab_type": "text"
      },
      "cell_type": "markdown",
      "source": [
        "### Training of Model"
      ]
    },
    {
      "metadata": {
        "id": "TM1vtRvotvYu",
        "colab_type": "code",
        "colab": {
          "base_uri": "https://localhost:8080/",
          "height": 773
        },
        "outputId": "0d4f69af-58f8-44d2-f507-3c3fe94d3189"
      },
      "cell_type": "code",
      "source": [
        "total_step=len(train_loader)\n",
        "for epoch in range(no_epochs):\n",
        "  for i, (images,labels) in enumerate(train_loader):\n",
        "    images=images.reshape(-1,28*28)\n",
        "    \n",
        "    output=model(images)\n",
        "    loss=criterion(output,labels)\n",
        "    \n",
        "    optimizer.zero_grad()\n",
        "    loss.backward()\n",
        "    optimizer.step()\n",
        "    \n",
        "    \n",
        "    if (i+1) % 100 == 0:\n",
        "      \n",
        "      print ('Epoch [{}/{}], Step [{}/{}], Loss: {:.4f}'.format(epoch+1, no_epochs, i+1, total_step, loss.item()))\n",
        "     "
      ],
      "execution_count": 207,
      "outputs": [
        {
          "output_type": "stream",
          "text": [
            "Epoch [1/5], Step [100/938], Loss: 0.6787\n",
            "Epoch [1/5], Step [200/938], Loss: 0.3635\n",
            "Epoch [1/5], Step [300/938], Loss: 0.5542\n",
            "Epoch [1/5], Step [400/938], Loss: 0.2989\n",
            "Epoch [1/5], Step [500/938], Loss: 0.3533\n",
            "Epoch [1/5], Step [600/938], Loss: 0.3134\n",
            "Epoch [1/5], Step [700/938], Loss: 0.3859\n",
            "Epoch [1/5], Step [800/938], Loss: 0.3255\n",
            "Epoch [1/5], Step [900/938], Loss: 0.3585\n",
            "Epoch [2/5], Step [100/938], Loss: 0.3276\n",
            "Epoch [2/5], Step [200/938], Loss: 0.3157\n",
            "Epoch [2/5], Step [300/938], Loss: 0.4506\n",
            "Epoch [2/5], Step [400/938], Loss: 0.3853\n",
            "Epoch [2/5], Step [500/938], Loss: 0.3978\n",
            "Epoch [2/5], Step [600/938], Loss: 0.2615\n",
            "Epoch [2/5], Step [700/938], Loss: 0.4332\n",
            "Epoch [2/5], Step [800/938], Loss: 0.4289\n",
            "Epoch [2/5], Step [900/938], Loss: 0.3376\n",
            "Epoch [3/5], Step [100/938], Loss: 0.3861\n",
            "Epoch [3/5], Step [200/938], Loss: 0.1933\n",
            "Epoch [3/5], Step [300/938], Loss: 0.4976\n",
            "Epoch [3/5], Step [400/938], Loss: 0.2218\n",
            "Epoch [3/5], Step [500/938], Loss: 0.3795\n",
            "Epoch [3/5], Step [600/938], Loss: 0.3000\n",
            "Epoch [3/5], Step [700/938], Loss: 0.2727\n",
            "Epoch [3/5], Step [800/938], Loss: 0.3349\n",
            "Epoch [3/5], Step [900/938], Loss: 0.3702\n",
            "Epoch [4/5], Step [100/938], Loss: 0.3569\n",
            "Epoch [4/5], Step [200/938], Loss: 0.3166\n",
            "Epoch [4/5], Step [300/938], Loss: 0.2986\n",
            "Epoch [4/5], Step [400/938], Loss: 0.2288\n",
            "Epoch [4/5], Step [500/938], Loss: 0.3282\n",
            "Epoch [4/5], Step [600/938], Loss: 0.1079\n",
            "Epoch [4/5], Step [700/938], Loss: 0.4698\n",
            "Epoch [4/5], Step [800/938], Loss: 0.3518\n",
            "Epoch [4/5], Step [900/938], Loss: 0.3424\n",
            "Epoch [5/5], Step [100/938], Loss: 0.1911\n",
            "Epoch [5/5], Step [200/938], Loss: 0.3424\n",
            "Epoch [5/5], Step [300/938], Loss: 0.2338\n",
            "Epoch [5/5], Step [400/938], Loss: 0.3295\n",
            "Epoch [5/5], Step [500/938], Loss: 0.2232\n",
            "Epoch [5/5], Step [600/938], Loss: 0.2101\n",
            "Epoch [5/5], Step [700/938], Loss: 0.2775\n",
            "Epoch [5/5], Step [800/938], Loss: 0.3961\n",
            "Epoch [5/5], Step [900/938], Loss: 0.1182\n"
          ],
          "name": "stdout"
        }
      ]
    },
    {
      "metadata": {
        "id": "GuKVaV04Ebpt",
        "colab_type": "code",
        "colab": {
          "base_uri": "https://localhost:8080/",
          "height": 34
        },
        "outputId": "81cfdee6-d308-4aa3-a298-cc617dbb8c24"
      },
      "cell_type": "code",
      "source": [
        "loss.detach().numpy()"
      ],
      "execution_count": 208,
      "outputs": [
        {
          "output_type": "execute_result",
          "data": {
            "text/plain": [
              "array(0.34808052, dtype=float32)"
            ]
          },
          "metadata": {
            "tags": []
          },
          "execution_count": 208
        }
      ]
    },
    {
      "metadata": {
        "id": "B_PUVXzfGnc1",
        "colab_type": "code",
        "colab": {
          "base_uri": "https://localhost:8080/",
          "height": 34
        },
        "outputId": "90c01170-2ad7-41b1-e9e4-9c5357f67e00"
      },
      "cell_type": "code",
      "source": [
        "np.array(i)"
      ],
      "execution_count": 209,
      "outputs": [
        {
          "output_type": "execute_result",
          "data": {
            "text/plain": [
              "array(937)"
            ]
          },
          "metadata": {
            "tags": []
          },
          "execution_count": 209
        }
      ]
    },
    {
      "metadata": {
        "id": "hFU_r-wmA4jV",
        "colab_type": "text"
      },
      "cell_type": "markdown",
      "source": [
        "### Evaluating Model Accuracy on Test Dataset"
      ]
    },
    {
      "metadata": {
        "id": "3Q3mc48k2h3V",
        "colab_type": "code",
        "colab": {
          "base_uri": "https://localhost:8080/",
          "height": 34
        },
        "outputId": "1dccc9f2-1f00-4485-e880-6036f11cd8d6"
      },
      "cell_type": "code",
      "source": [
        "with torch.no_grad():\n",
        "  correct=0\n",
        "  total=0\n",
        "  for (images,labels) in test_loader:\n",
        "    images=images.reshape(-1,28*28)\n",
        "    \n",
        "    pred=model(images)\n",
        "    _,predicted=torch.max(pred.data,1)\n",
        "    total+=labels.size(0)\n",
        "    correct+=(predicted==labels).sum().item()\n",
        "    \n",
        "  print('Accuracy of the network on the 10000 test images: {} %'.format(100 * correct / total))\n",
        "  "
      ],
      "execution_count": 210,
      "outputs": [
        {
          "output_type": "stream",
          "text": [
            "Accuracy of the network on the 10000 test images: 87.56 %\n"
          ],
          "name": "stdout"
        }
      ]
    },
    {
      "metadata": {
        "id": "jZ_7tUIWBCwB",
        "colab_type": "text"
      },
      "cell_type": "markdown",
      "source": [
        "### Evaluating and judgement of Model Parameters "
      ]
    },
    {
      "metadata": {
        "id": "1LD1bB2I5_GJ",
        "colab_type": "code",
        "colab": {
          "base_uri": "https://localhost:8080/",
          "height": 34
        },
        "outputId": "40d7e7dc-9ad1-4f7d-ea72-124cd43a423d"
      },
      "cell_type": "code",
      "source": [
        "correct"
      ],
      "execution_count": 211,
      "outputs": [
        {
          "output_type": "execute_result",
          "data": {
            "text/plain": [
              "8756"
            ]
          },
          "metadata": {
            "tags": []
          },
          "execution_count": 211
        }
      ]
    },
    {
      "metadata": {
        "id": "dTu7faNe6HWq",
        "colab_type": "code",
        "colab": {
          "base_uri": "https://localhost:8080/",
          "height": 34
        },
        "outputId": "f7dbeffb-04ae-4d1c-f101-1150b16d76a4"
      },
      "cell_type": "code",
      "source": [
        "total"
      ],
      "execution_count": 212,
      "outputs": [
        {
          "output_type": "execute_result",
          "data": {
            "text/plain": [
              "10000"
            ]
          },
          "metadata": {
            "tags": []
          },
          "execution_count": 212
        }
      ]
    },
    {
      "metadata": {
        "id": "QnQhYTUM6IvV",
        "colab_type": "code",
        "colab": {
          "base_uri": "https://localhost:8080/",
          "height": 34
        },
        "outputId": "f3e62ad2-9660-4566-ec45-658a8adea3b1"
      },
      "cell_type": "code",
      "source": [
        "\n",
        "labels.size()"
      ],
      "execution_count": 213,
      "outputs": [
        {
          "output_type": "execute_result",
          "data": {
            "text/plain": [
              "torch.Size([16])"
            ]
          },
          "metadata": {
            "tags": []
          },
          "execution_count": 213
        }
      ]
    },
    {
      "metadata": {
        "id": "8SFPP2ee6PZ_",
        "colab_type": "code",
        "colab": {
          "base_uri": "https://localhost:8080/",
          "height": 34
        },
        "outputId": "ec2a5d6c-12f7-4ab5-f945-a20655fcdc75"
      },
      "cell_type": "code",
      "source": [
        "model.fc1.weight.size()"
      ],
      "execution_count": 214,
      "outputs": [
        {
          "output_type": "execute_result",
          "data": {
            "text/plain": [
              "torch.Size([500, 784])"
            ]
          },
          "metadata": {
            "tags": []
          },
          "execution_count": 214
        }
      ]
    },
    {
      "metadata": {
        "id": "4xlRSzSo7Z7V",
        "colab_type": "code",
        "colab": {
          "base_uri": "https://localhost:8080/",
          "height": 34
        },
        "outputId": "4e84550d-d9d1-4e3a-86c2-d0b015bdd79d"
      },
      "cell_type": "code",
      "source": [
        "model.fc1.bias.size()"
      ],
      "execution_count": 215,
      "outputs": [
        {
          "output_type": "execute_result",
          "data": {
            "text/plain": [
              "torch.Size([500])"
            ]
          },
          "metadata": {
            "tags": []
          },
          "execution_count": 215
        }
      ]
    },
    {
      "metadata": {
        "id": "YQIbdGOK7pnm",
        "colab_type": "code",
        "colab": {
          "base_uri": "https://localhost:8080/",
          "height": 34
        },
        "outputId": "cc4711a1-934e-45fe-ce3d-5344ed0e2fb0"
      },
      "cell_type": "code",
      "source": [
        "model.fc2.weight.size()"
      ],
      "execution_count": 216,
      "outputs": [
        {
          "output_type": "execute_result",
          "data": {
            "text/plain": [
              "torch.Size([500, 500])"
            ]
          },
          "metadata": {
            "tags": []
          },
          "execution_count": 216
        }
      ]
    },
    {
      "metadata": {
        "id": "HIXe9xom77fi",
        "colab_type": "code",
        "colab": {
          "base_uri": "https://localhost:8080/",
          "height": 34
        },
        "outputId": "9c8d8b46-94ef-40fe-816b-04de181b1108"
      },
      "cell_type": "code",
      "source": [
        "model.fc2.bias.size()"
      ],
      "execution_count": 217,
      "outputs": [
        {
          "output_type": "execute_result",
          "data": {
            "text/plain": [
              "torch.Size([500])"
            ]
          },
          "metadata": {
            "tags": []
          },
          "execution_count": 217
        }
      ]
    },
    {
      "metadata": {
        "id": "G3SOm23t8JfO",
        "colab_type": "code",
        "colab": {
          "base_uri": "https://localhost:8080/",
          "height": 34
        },
        "outputId": "c3945064-3441-486e-a2de-bc79032867cd"
      },
      "cell_type": "code",
      "source": [
        "model.fc3.weight.size()"
      ],
      "execution_count": 218,
      "outputs": [
        {
          "output_type": "execute_result",
          "data": {
            "text/plain": [
              "torch.Size([10, 500])"
            ]
          },
          "metadata": {
            "tags": []
          },
          "execution_count": 218
        }
      ]
    },
    {
      "metadata": {
        "id": "zT4394528MIg",
        "colab_type": "code",
        "colab": {
          "base_uri": "https://localhost:8080/",
          "height": 67
        },
        "outputId": "7339aaed-496c-46d6-fd07-30320671322c"
      },
      "cell_type": "code",
      "source": [
        "model.fc3.bias"
      ],
      "execution_count": 219,
      "outputs": [
        {
          "output_type": "execute_result",
          "data": {
            "text/plain": [
              "Parameter containing:\n",
              "tensor([ 0.0081, -0.1317,  0.0416,  0.1014, -0.0965,  0.0132,  0.0233,  0.1232,\n",
              "         0.0180, -0.2021], requires_grad=True)"
            ]
          },
          "metadata": {
            "tags": []
          },
          "execution_count": 219
        }
      ]
    },
    {
      "metadata": {
        "id": "Iv6hffFS8ocC",
        "colab_type": "code",
        "colab": {
          "base_uri": "https://localhost:8080/",
          "height": 554
        },
        "outputId": "2591c01b-43a4-4500-e527-83721e8d92c4"
      },
      "cell_type": "code",
      "source": [
        "pred"
      ],
      "execution_count": 220,
      "outputs": [
        {
          "output_type": "execute_result",
          "data": {
            "text/plain": [
              "tensor([[ -0.8485,  -1.0155,  -4.0072,   4.0472,  -3.6320,  -9.8392,  -0.4033,\n",
              "         -14.1552,  -4.5670, -10.4597],\n",
              "        [ -0.2990,  -3.3987,   0.7084,  -3.1346,  -2.6225,  -4.6324,  -0.8321,\n",
              "          -8.0553,  -2.9275,  -6.7090],\n",
              "        [-12.8796, -13.2305, -13.2135, -10.3607,  -8.4419,  -2.3740, -10.5953,\n",
              "           8.5901, -10.1117,  -0.0974],\n",
              "        [-14.7274, -37.2845, -23.7762, -33.6620, -24.1408,  22.2453, -22.3026,\n",
              "          -6.7309, -17.0681,  -9.5524],\n",
              "        [ -0.0918,  -7.3715,  -3.3619,  -5.4005,  -3.9937,  -4.9823,  -0.9026,\n",
              "          -5.3811,   4.6705,  -5.1906],\n",
              "        [ -7.6392, -13.4314,   6.5285,  -8.8538,   4.5842, -16.9883,  -0.3892,\n",
              "         -18.4993, -11.7371, -16.5340],\n",
              "        [-18.2592, -47.3975, -33.7171, -48.0569, -31.6992,  27.0922, -31.5575,\n",
              "          -7.3040, -28.1317,  -7.6467],\n",
              "        [  0.6497,  -4.1726,   1.0413,   0.1968,  -0.6339,  -5.3621,   1.4932,\n",
              "          -6.9636,  -2.0466,  -6.3151],\n",
              "        [ -9.6036, -10.0157, -11.2560,  -4.4294,  -5.4280, -11.2542, -11.9590,\n",
              "         -14.3611,   9.3075, -15.4736],\n",
              "        [-16.3541, -15.2980, -21.1756, -20.6225, -17.2797,  -5.1497, -17.1647,\n",
              "           1.6813, -19.0095,  14.5856],\n",
              "        [ -6.2978,  15.1240,  -7.7319,  -1.4728,  -6.1185, -22.0332,  -5.3895,\n",
              "         -26.8728,  -8.9691, -14.1944],\n",
              "        [-14.0981, -12.2036, -17.9189, -16.5826, -14.5240,  -3.3682, -15.2845,\n",
              "           0.4679, -18.4889,  12.3314],\n",
              "        [ -4.3841,  13.5133,  -6.7715,  -1.6220,  -6.6292, -19.2155,  -5.0880,\n",
              "         -24.9362,  -8.4811, -12.7688],\n",
              "        [ -3.0973,  -9.9194,  -3.9243,  -5.3002,  -1.3478,  -7.3184,  -4.9014,\n",
              "          -8.9389,   6.1972, -12.4149],\n",
              "        [ -6.1598,  13.5126,  -8.1424,  -1.2443,  -5.8751, -18.1690,  -4.5456,\n",
              "         -23.6096,  -7.0472, -12.1291],\n",
              "        [ -4.5612, -12.1377,  -4.1612,  -9.4385,  -3.6616,   5.4838,  -3.8751,\n",
              "          -1.4920,  -3.4703,  -5.1272]])"
            ]
          },
          "metadata": {
            "tags": []
          },
          "execution_count": 220
        }
      ]
    },
    {
      "metadata": {
        "id": "nxVfwxEa9CtB",
        "colab_type": "code",
        "colab": {
          "base_uri": "https://localhost:8080/",
          "height": 34
        },
        "outputId": "775ed983-3ca3-4c1a-ca1f-b200a5494a8a"
      },
      "cell_type": "code",
      "source": [
        "labels"
      ],
      "execution_count": 221,
      "outputs": [
        {
          "output_type": "execute_result",
          "data": {
            "text/plain": [
              "tensor([3, 2, 7, 5, 8, 4, 5, 6, 8, 9, 1, 9, 1, 8, 1, 5])"
            ]
          },
          "metadata": {
            "tags": []
          },
          "execution_count": 221
        }
      ]
    },
    {
      "metadata": {
        "id": "QLbHodMe9b23",
        "colab_type": "code",
        "colab": {
          "base_uri": "https://localhost:8080/",
          "height": 151
        },
        "outputId": "31379a8d-861b-4419-821a-f4d4fda3feea"
      },
      "cell_type": "code",
      "source": [
        "model.fc1(images)"
      ],
      "execution_count": 222,
      "outputs": [
        {
          "output_type": "execute_result",
          "data": {
            "text/plain": [
              "tensor([[-4.8189, -4.7548, -1.9322,  ..., -0.6943, -3.9771, -1.5294],\n",
              "        [-3.3721, -3.9158, -3.0196,  ..., -2.8579, -3.0036, -1.1138],\n",
              "        [-0.4010, -1.6793, -2.0212,  ..., -4.0937, -2.3502, -0.4540],\n",
              "        ...,\n",
              "        [-4.5508, -3.3418,  0.3982,  ..., -1.1389, -1.7979, -1.0271],\n",
              "        [-4.2725, -3.3409, -2.0109,  ..., -1.0232, -4.4473, -1.6086],\n",
              "        [ 0.4589, -0.9935, -1.1198,  ..., -3.0530, -1.2433, -0.7160]],\n",
              "       grad_fn=<ThAddmmBackward>)"
            ]
          },
          "metadata": {
            "tags": []
          },
          "execution_count": 222
        }
      ]
    }
  ]
}