{
  "nbformat": 4,
  "nbformat_minor": 0,
  "metadata": {
    "colab": {
      "name": "Linear_regPytorch.ipynb",
      "version": "0.3.2",
      "provenance": [],
      "collapsed_sections": []
    },
    "kernelspec": {
      "name": "python3",
      "display_name": "Python 3"
    },
    "accelerator": "GPU"
  },
  "cells": [
    {
      "metadata": {
        "id": "4UfcnQBQ9-2A",
        "colab_type": "text"
      },
      "cell_type": "markdown",
      "source": [
        "## Installing torch and torchvision libraries in google colab"
      ]
    },
    {
      "metadata": {
        "id": "L0gaE6UNYxKD",
        "colab_type": "code",
        "colab": {
          "base_uri": "https://localhost:8080/",
          "height": 101
        },
        "outputId": "9626b26c-41ad-498c-b694-9e120b61d88a"
      },
      "cell_type": "code",
      "source": [
        "!pip3 install torch torchvision"
      ],
      "execution_count": 1,
      "outputs": [
        {
          "output_type": "stream",
          "text": [
            "Requirement already satisfied: torch in /usr/local/lib/python3.6/dist-packages (0.4.1)\r\n",
            "Requirement already satisfied: torchvision in /usr/local/lib/python3.6/dist-packages (0.2.1)\r\n",
            "Requirement already satisfied: six in /usr/local/lib/python3.6/dist-packages (from torchvision) (1.11.0)\n",
            "Requirement already satisfied: pillow>=4.1.1 in /usr/local/lib/python3.6/dist-packages (from torchvision) (5.2.0)\n",
            "Requirement already satisfied: numpy in /usr/local/lib/python3.6/dist-packages (from torchvision) (1.14.5)\n"
          ],
          "name": "stdout"
        }
      ]
    },
    {
      "metadata": {
        "id": "u0UISBAi-Pew",
        "colab_type": "text"
      },
      "cell_type": "markdown",
      "source": [
        "## Importing   Required Libraries"
      ]
    },
    {
      "metadata": {
        "id": "Ql--98m2ZIuF",
        "colab_type": "code",
        "colab": {}
      },
      "cell_type": "code",
      "source": [
        "import torch\n",
        "import torchvision\n",
        "import torch.nn as nn\n",
        "import torchvision.transforms as transforms\n",
        "import numpy as np"
      ],
      "execution_count": 0,
      "outputs": []
    },
    {
      "metadata": {
        "id": "Ev5dXrzr-kyl",
        "colab_type": "text"
      },
      "cell_type": "markdown",
      "source": [
        "## Making linear random Data points added with some bias noise "
      ]
    },
    {
      "metadata": {
        "id": "Gg4xDycXZl8v",
        "colab_type": "code",
        "colab": {}
      },
      "cell_type": "code",
      "source": [
        "x=torch.randn(50,1)\n",
        "w=torch.randn(1,1)\n",
        "b=torch.randn(50,1)"
      ],
      "execution_count": 0,
      "outputs": []
    },
    {
      "metadata": {
        "id": "r3uE4TDF-6Sa",
        "colab_type": "text"
      },
      "cell_type": "markdown",
      "source": [
        "## Defining target variable"
      ]
    },
    {
      "metadata": {
        "id": "JzTtJNVLaUyi",
        "colab_type": "code",
        "colab": {
          "base_uri": "https://localhost:8080/",
          "height": 34
        },
        "outputId": "12a2e674-e7bc-4309-8d76-b84ad93622a6"
      },
      "cell_type": "code",
      "source": [
        "y=w*x+b\n",
        "y.shape"
      ],
      "execution_count": 55,
      "outputs": [
        {
          "output_type": "execute_result",
          "data": {
            "text/plain": [
              "torch.Size([50, 1])"
            ]
          },
          "metadata": {
            "tags": []
          },
          "execution_count": 55
        }
      ]
    },
    {
      "metadata": {
        "id": "HaQXZTlE_LOw",
        "colab_type": "text"
      },
      "cell_type": "markdown",
      "source": [
        "## Defining Linear Hypothesis"
      ]
    },
    {
      "metadata": {
        "id": "8x9O159-akl1",
        "colab_type": "code",
        "colab": {}
      },
      "cell_type": "code",
      "source": [
        "model=nn.Linear(1,1)"
      ],
      "execution_count": 0,
      "outputs": []
    },
    {
      "metadata": {
        "id": "G5JVfDwJ_TA2",
        "colab_type": "text"
      },
      "cell_type": "markdown",
      "source": [
        "## hyperparameters of model"
      ]
    },
    {
      "metadata": {
        "id": "9ZZoshzDbJRh",
        "colab_type": "code",
        "colab": {}
      },
      "cell_type": "code",
      "source": [
        "no_epoch=60\n",
        "lr=0.01"
      ],
      "execution_count": 0,
      "outputs": []
    },
    {
      "metadata": {
        "id": "wwCx9WLb_eu8",
        "colab_type": "text"
      },
      "cell_type": "markdown",
      "source": [
        "##  Taking Loss function as Mse Loss and optimization algorithm to be stochastic gradient descent "
      ]
    },
    {
      "metadata": {
        "id": "QAg5Que2gqW6",
        "colab_type": "code",
        "colab": {}
      },
      "cell_type": "code",
      "source": [
        "criterion=nn.MSELoss()\n",
        "optimizer=torch.optim.SGD(model.parameters(),lr=lr)"
      ],
      "execution_count": 0,
      "outputs": []
    },
    {
      "metadata": {
        "id": "njNVSY9O_8JU",
        "colab_type": "text"
      },
      "cell_type": "markdown",
      "source": [
        "## Training of model "
      ]
    },
    {
      "metadata": {
        "id": "m9IgLI9EhYGL",
        "colab_type": "code",
        "colab": {
          "base_uri": "https://localhost:8080/",
          "height": 1025
        },
        "outputId": "c7bfaebe-756e-4a33-b352-b99d67e7a3e4"
      },
      "cell_type": "code",
      "source": [
        "for epochs in range(no_epoch):\n",
        "  pred=model(x)\n",
        "  loss=criterion(pred,y)\n",
        "  \n",
        "  optimizer.zero_grad()\n",
        "  loss.backward()\n",
        "  optimizer.step()\n",
        "  \n",
        "  \n",
        "  print('Epochs[{}/{}],loss: {:.4f}'.format(epochs+1,no_epoch,loss.item()))"
      ],
      "execution_count": 59,
      "outputs": [
        {
          "output_type": "stream",
          "text": [
            "Epochs[1/60],loss: 1.5890\n",
            "Epochs[2/60],loss: 1.5638\n",
            "Epochs[3/60],loss: 1.5394\n",
            "Epochs[4/60],loss: 1.5158\n",
            "Epochs[5/60],loss: 1.4928\n",
            "Epochs[6/60],loss: 1.4705\n",
            "Epochs[7/60],loss: 1.4488\n",
            "Epochs[8/60],loss: 1.4279\n",
            "Epochs[9/60],loss: 1.4075\n",
            "Epochs[10/60],loss: 1.3877\n",
            "Epochs[11/60],loss: 1.3685\n",
            "Epochs[12/60],loss: 1.3499\n",
            "Epochs[13/60],loss: 1.3318\n",
            "Epochs[14/60],loss: 1.3143\n",
            "Epochs[15/60],loss: 1.2972\n",
            "Epochs[16/60],loss: 1.2807\n",
            "Epochs[17/60],loss: 1.2647\n",
            "Epochs[18/60],loss: 1.2491\n",
            "Epochs[19/60],loss: 1.2340\n",
            "Epochs[20/60],loss: 1.2193\n",
            "Epochs[21/60],loss: 1.2050\n",
            "Epochs[22/60],loss: 1.1912\n",
            "Epochs[23/60],loss: 1.1778\n",
            "Epochs[24/60],loss: 1.1647\n",
            "Epochs[25/60],loss: 1.1521\n",
            "Epochs[26/60],loss: 1.1398\n",
            "Epochs[27/60],loss: 1.1279\n",
            "Epochs[28/60],loss: 1.1163\n",
            "Epochs[29/60],loss: 1.1050\n",
            "Epochs[30/60],loss: 1.0941\n",
            "Epochs[31/60],loss: 1.0835\n",
            "Epochs[32/60],loss: 1.0732\n",
            "Epochs[33/60],loss: 1.0632\n",
            "Epochs[34/60],loss: 1.0535\n",
            "Epochs[35/60],loss: 1.0441\n",
            "Epochs[36/60],loss: 1.0349\n",
            "Epochs[37/60],loss: 1.0260\n",
            "Epochs[38/60],loss: 1.0174\n",
            "Epochs[39/60],loss: 1.0090\n",
            "Epochs[40/60],loss: 1.0009\n",
            "Epochs[41/60],loss: 0.9930\n",
            "Epochs[42/60],loss: 0.9853\n",
            "Epochs[43/60],loss: 0.9778\n",
            "Epochs[44/60],loss: 0.9706\n",
            "Epochs[45/60],loss: 0.9635\n",
            "Epochs[46/60],loss: 0.9567\n",
            "Epochs[47/60],loss: 0.9501\n",
            "Epochs[48/60],loss: 0.9436\n",
            "Epochs[49/60],loss: 0.9374\n",
            "Epochs[50/60],loss: 0.9313\n",
            "Epochs[51/60],loss: 0.9254\n",
            "Epochs[52/60],loss: 0.9196\n",
            "Epochs[53/60],loss: 0.9140\n",
            "Epochs[54/60],loss: 0.9086\n",
            "Epochs[55/60],loss: 0.9034\n",
            "Epochs[56/60],loss: 0.8982\n",
            "Epochs[57/60],loss: 0.8933\n",
            "Epochs[58/60],loss: 0.8885\n",
            "Epochs[59/60],loss: 0.8838\n",
            "Epochs[60/60],loss: 0.8792\n"
          ],
          "name": "stdout"
        }
      ]
    },
    {
      "metadata": {
        "id": "Uuke73najWcQ",
        "colab_type": "code",
        "colab": {}
      },
      "cell_type": "code",
      "source": [
        "import matplotlib.pyplot as plt"
      ],
      "execution_count": 0,
      "outputs": []
    },
    {
      "metadata": {
        "id": "NhAkYgGnAFfo",
        "colab_type": "text"
      },
      "cell_type": "markdown",
      "source": [
        "## plotting data points and fitted line"
      ]
    },
    {
      "metadata": {
        "id": "qDy9_X7Yi_Qn",
        "colab_type": "code",
        "colab": {
          "base_uri": "https://localhost:8080/",
          "height": 347
        },
        "outputId": "dbf080f9-b177-466e-9963-dabeae4668cc"
      },
      "cell_type": "code",
      "source": [
        "plt.plot(x.numpy(), y.numpy(), 'ro', label='Original data')\n",
        "plt.plot(x.numpy(), pred.detach().numpy(), label='Fitted line')\n",
        "plt.legend()\n",
        "plt.show()"
      ],
      "execution_count": 60,
      "outputs": [
        {
          "output_type": "display_data",
          "data": {
            "image/png": "[encoded data removed]",
            "text/plain": [
              "<matplotlib.figure.Figure at 0x7f8a750629e8>"
            ]
          },
          "metadata": {
            "tags": []
          }
        }
      ]
    }
  ]
}