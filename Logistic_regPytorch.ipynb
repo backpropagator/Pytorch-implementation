{
  "nbformat": 4,
  "nbformat_minor": 0,
  "metadata": {
    "colab": {
      "name": "Logistic_regPytorch.ipynb",
      "version": "0.3.2",
      "provenance": [],
      "collapsed_sections": []
    },
    "kernelspec": {
      "name": "python3",
      "display_name": "Python 3"
    },
    "accelerator": "GPU"
  },
  "cells": [
    {
      "metadata": {
        "id": "cwFPBUzIAgSY",
        "colab_type": "text"
      },
      "cell_type": "markdown",
      "source": [
        "## Importing Required Libraries"
      ]
    },
    {
      "metadata": {
        "id": "VRBTfNgOkp4d",
        "colab_type": "code",
        "colab": {}
      },
      "cell_type": "code",
      "source": [
        "import torch\n",
        "import torchvision\n",
        "import torch.nn as nn\n",
        "import torchvision.transforms as transforms\n",
        "import numpy as np\n",
        "import matplotlib.pyplot as plt\n",
        "import PIL\n",
        "%matplotlib inline"
      ],
      "execution_count": 0,
      "outputs": []
    },
    {
      "metadata": {
        "id": "Nzk7cI6YArKW",
        "colab_type": "text"
      },
      "cell_type": "markdown",
      "source": [
        "##  Taking Model Parameters and Hyperparameters"
      ]
    },
    {
      "metadata": {
        "id": "XyPoD6sUmz-F",
        "colab_type": "code",
        "colab": {}
      },
      "cell_type": "code",
      "source": [
        "input_size=784\n",
        "num_class=10\n",
        "no_epoch=5\n",
        "batch_size=64\n",
        "lr=0.01"
      ],
      "execution_count": 0,
      "outputs": []
    },
    {
      "metadata": {
        "id": "Dacyd5HWA0CD",
        "colab_type": "text"
      },
      "cell_type": "markdown",
      "source": [
        "## Downloading FashionMNIST dataset and transforming all images  into tensor"
      ]
    },
    {
      "metadata": {
        "id": "rp9PPFTsoBFs",
        "colab_type": "code",
        "colab": {}
      },
      "cell_type": "code",
      "source": [
        "train=torchvision.datasets.FashionMNIST('./input',train=True,download=True,transform=transforms.ToTensor())\n",
        "test=torchvision.datasets.FashionMNIST('./input',train=False,download=True,transform=transforms.ToTensor())\n",
        "\n",
        "                                       "
      ],
      "execution_count": 0,
      "outputs": []
    },
    {
      "metadata": {
        "id": "AdFp4sC8rsNw",
        "colab_type": "code",
        "colab": {
          "base_uri": "https://localhost:8080/",
          "height": 50
        },
        "outputId": "44b9035f-529f-4f0e-d178-acd60b4caa55"
      },
      "cell_type": "code",
      "source": [
        "print('No. of samples in train set: '+str(len(train)))\n",
        "print('No. of samples in test set: '+str(len(test)))"
      ],
      "execution_count": 21,
      "outputs": [
        {
          "output_type": "stream",
          "text": [
            "No. of samples in train set: 60000\n",
            "No. of samples in test set: 10000\n"
          ],
          "name": "stdout"
        }
      ]
    },
    {
      "metadata": {
        "id": "pcjsmpQfqZB0",
        "colab_type": "code",
        "colab": {
          "base_uri": "https://localhost:8080/",
          "height": 34
        },
        "outputId": "f527c1c3-be13-4cad-d485-7c56491ff61e"
      },
      "cell_type": "code",
      "source": [
        "img=train[2007][0]\n",
        "img.size()"
      ],
      "execution_count": 50,
      "outputs": [
        {
          "output_type": "execute_result",
          "data": {
            "text/plain": [
              "torch.Size([1, 28, 28])"
            ]
          },
          "metadata": {
            "tags": []
          },
          "execution_count": 50
        }
      ]
    },
    {
      "metadata": {
        "id": "mwqGFgHxBGBR",
        "colab_type": "text"
      },
      "cell_type": "markdown",
      "source": [
        "## Plotting image of random sample from training images"
      ]
    },
    {
      "metadata": {
        "id": "FZE0fyUerb6x",
        "colab_type": "code",
        "colab": {
          "base_uri": "https://localhost:8080/",
          "height": 337
        },
        "outputId": "ef62aefb-acec-4fb5-cae2-6b5e5ba37b9b"
      },
      "cell_type": "code",
      "source": [
        "plt.figure(figsize=(10,5))\n",
        "plt.imshow(img.reshape(28,28))"
      ],
      "execution_count": 51,
      "outputs": [
        {
          "output_type": "execute_result",
          "data": {
            "text/plain": [
              "<matplotlib.image.AxesImage at 0x7fa3a6acdbe0>"
            ]
          },
          "metadata": {
            "tags": []
          },
          "execution_count": 51
        },
        {
          "output_type": "display_data",
          "data": {
            "image/png": "[encoded data removed]",
            "text/plain": [
              "<matplotlib.figure.Figure at 0x7fa3a6811940>"
            ]
          },
          "metadata": {
            "tags": []
          }
        }
      ]
    },
    {
      "metadata": {
        "id": "Yfjq2Pv6BP85",
        "colab_type": "text"
      },
      "cell_type": "markdown",
      "source": [
        "##  Creating DataLoader for Train and Testing images "
      ]
    },
    {
      "metadata": {
        "id": "b2VdsSzlzcmm",
        "colab_type": "code",
        "colab": {}
      },
      "cell_type": "code",
      "source": [
        "train_loader=torch.utils.data.DataLoader(train,batch_size=batch_size,shuffle=True)\n",
        "test_loader=torch.utils.data.DataLoader(test,batch_size=batch_size,shuffle=False)"
      ],
      "execution_count": 0,
      "outputs": []
    },
    {
      "metadata": {
        "id": "t58kuSIuBauU",
        "colab_type": "text"
      },
      "cell_type": "markdown",
      "source": [
        "###  Defining Model as Linear summation of all inputs and taking softmax as output \n",
        "### Loss function is CrossEntropy as it is classification problem\n",
        "### taking our optimiztion algorithm to be stochastic gradient descent"
      ]
    },
    {
      "metadata": {
        "id": "JYMdYaEt0z5l",
        "colab_type": "code",
        "colab": {}
      },
      "cell_type": "code",
      "source": [
        "model=nn.Linear(input_size,num_class)\n",
        "criterion=nn.CrossEntropyLoss()\n",
        "optimizer=torch.optim.SGD(model.parameters(),lr=lr)"
      ],
      "execution_count": 0,
      "outputs": []
    },
    {
      "metadata": {
        "id": "gVWgHi0kCVz6",
        "colab_type": "text"
      },
      "cell_type": "markdown",
      "source": [
        "### initialized weights of model"
      ]
    },
    {
      "metadata": {
        "id": "ArnWhRuK03yv",
        "colab_type": "code",
        "colab": {
          "base_uri": "https://localhost:8080/",
          "height": 185
        },
        "outputId": "fe99b836-7b75-4263-ba03-95afb2aa4d3d"
      },
      "cell_type": "code",
      "source": [
        "print(model.weight.size())\n",
        "print(model.weight)"
      ],
      "execution_count": 63,
      "outputs": [
        {
          "output_type": "stream",
          "text": [
            "torch.Size([10, 784])\n",
            "Parameter containing:\n",
            "tensor([[ 0.0190, -0.0155,  0.0024,  ...,  0.0110, -0.0140, -0.0144],\n",
            "        [-0.0023, -0.0149,  0.0232,  ...,  0.0304,  0.0237, -0.0014],\n",
            "        [ 0.0044, -0.0152,  0.0041,  ...,  0.0270,  0.0167,  0.0339],\n",
            "        ...,\n",
            "        [-0.0044,  0.0270,  0.0206,  ...,  0.0066, -0.0224,  0.0250],\n",
            "        [ 0.0219, -0.0355, -0.0207,  ..., -0.0010,  0.0037, -0.0319],\n",
            "        [ 0.0175, -0.0030,  0.0218,  ..., -0.0291, -0.0258,  0.0090]],\n",
            "       requires_grad=True)\n"
          ],
          "name": "stdout"
        }
      ]
    },
    {
      "metadata": {
        "id": "8NXRAZdWCc3F",
        "colab_type": "text"
      },
      "cell_type": "markdown",
      "source": [
        "### Initialized biases of model"
      ]
    },
    {
      "metadata": {
        "id": "cxItCGQC2bkC",
        "colab_type": "code",
        "colab": {
          "base_uri": "https://localhost:8080/",
          "height": 84
        },
        "outputId": "0cb70301-50d5-4baf-d628-bcedbc354351"
      },
      "cell_type": "code",
      "source": [
        "print(model.bias.size())\n",
        "print(model.bias)"
      ],
      "execution_count": 64,
      "outputs": [
        {
          "output_type": "stream",
          "text": [
            "torch.Size([10])\n",
            "Parameter containing:\n",
            "tensor([-0.0155,  0.0031,  0.0074,  0.0217, -0.0228, -0.0062,  0.0271,  0.0232,\n",
            "        -0.0058, -0.0313], requires_grad=True)\n"
          ],
          "name": "stdout"
        }
      ]
    },
    {
      "metadata": {
        "id": "cAnLbovu3HnJ",
        "colab_type": "code",
        "colab": {
          "base_uri": "https://localhost:8080/",
          "height": 34
        },
        "outputId": "6d66baab-0e34-40d4-e231-2d8f4ec5f321"
      },
      "cell_type": "code",
      "source": [
        "total_step=len(train_loader)\n",
        "total_step"
      ],
      "execution_count": 65,
      "outputs": [
        {
          "output_type": "execute_result",
          "data": {
            "text/plain": [
              "938"
            ]
          },
          "metadata": {
            "tags": []
          },
          "execution_count": 65
        }
      ]
    },
    {
      "metadata": {
        "id": "7TGAfOQaCixm",
        "colab_type": "text"
      },
      "cell_type": "markdown",
      "source": [
        "## Training of model on training dataset"
      ]
    },
    {
      "metadata": {
        "id": "QGcBopry3U2P",
        "colab_type": "code",
        "colab": {
          "base_uri": "https://localhost:8080/",
          "height": 773
        },
        "outputId": "8c110085-9141-4f43-91c7-07e2037a1ff7"
      },
      "cell_type": "code",
      "source": [
        "for epoch in range(no_epoch):\n",
        "  for i,(images,labels) in enumerate(train_loader):\n",
        "    images=images.reshape(-1,28*28)\n",
        "    \n",
        "    pred=model(images)\n",
        "    loss=criterion(pred,labels)\n",
        "    \n",
        "    optimizer.zero_grad()\n",
        "    loss.backward()\n",
        "    optimizer.step()\n",
        "    \n",
        "    if (i+1) % 100 == 0:\n",
        "      \n",
        "      print('Epoch [{}/{}], Step [{}/{}], Loss: {:.4f}'.format(epoch+1, no_epoch, i+1, total_step, loss.item()))\n",
        "           "
      ],
      "execution_count": 84,
      "outputs": [
        {
          "output_type": "stream",
          "text": [
            "Epoch [1/5], Step [100/938], Loss: 0.5618\n",
            "Epoch [1/5], Step [200/938], Loss: 0.4682\n",
            "Epoch [1/5], Step [300/938], Loss: 0.7252\n",
            "Epoch [1/5], Step [400/938], Loss: 0.5417\n",
            "Epoch [1/5], Step [500/938], Loss: 0.4914\n",
            "Epoch [1/5], Step [600/938], Loss: 0.4580\n",
            "Epoch [1/5], Step [700/938], Loss: 0.6543\n",
            "Epoch [1/5], Step [800/938], Loss: 0.5727\n",
            "Epoch [1/5], Step [900/938], Loss: 0.5844\n",
            "Epoch [2/5], Step [100/938], Loss: 0.5242\n",
            "Epoch [2/5], Step [200/938], Loss: 0.5473\n",
            "Epoch [2/5], Step [300/938], Loss: 0.5859\n",
            "Epoch [2/5], Step [400/938], Loss: 0.4740\n",
            "Epoch [2/5], Step [500/938], Loss: 0.5689\n",
            "Epoch [2/5], Step [600/938], Loss: 0.6264\n",
            "Epoch [2/5], Step [700/938], Loss: 0.4190\n",
            "Epoch [2/5], Step [800/938], Loss: 0.3545\n",
            "Epoch [2/5], Step [900/938], Loss: 0.3271\n",
            "Epoch [3/5], Step [100/938], Loss: 0.4157\n",
            "Epoch [3/5], Step [200/938], Loss: 0.6724\n",
            "Epoch [3/5], Step [300/938], Loss: 0.5006\n",
            "Epoch [3/5], Step [400/938], Loss: 0.5939\n",
            "Epoch [3/5], Step [500/938], Loss: 0.6007\n",
            "Epoch [3/5], Step [600/938], Loss: 0.4615\n",
            "Epoch [3/5], Step [700/938], Loss: 0.5057\n",
            "Epoch [3/5], Step [800/938], Loss: 0.5375\n",
            "Epoch [3/5], Step [900/938], Loss: 0.3278\n",
            "Epoch [4/5], Step [100/938], Loss: 0.5790\n",
            "Epoch [4/5], Step [200/938], Loss: 0.5258\n",
            "Epoch [4/5], Step [300/938], Loss: 0.4554\n",
            "Epoch [4/5], Step [400/938], Loss: 0.3840\n",
            "Epoch [4/5], Step [500/938], Loss: 0.5025\n",
            "Epoch [4/5], Step [600/938], Loss: 0.3442\n",
            "Epoch [4/5], Step [700/938], Loss: 0.5273\n",
            "Epoch [4/5], Step [800/938], Loss: 0.4489\n",
            "Epoch [4/5], Step [900/938], Loss: 0.5446\n",
            "Epoch [5/5], Step [100/938], Loss: 0.4519\n",
            "Epoch [5/5], Step [200/938], Loss: 0.4862\n",
            "Epoch [5/5], Step [300/938], Loss: 0.5738\n",
            "Epoch [5/5], Step [400/938], Loss: 0.6566\n",
            "Epoch [5/5], Step [500/938], Loss: 0.5169\n",
            "Epoch [5/5], Step [600/938], Loss: 0.6149\n",
            "Epoch [5/5], Step [700/938], Loss: 0.5630\n",
            "Epoch [5/5], Step [800/938], Loss: 0.3801\n",
            "Epoch [5/5], Step [900/938], Loss: 0.4759\n"
          ],
          "name": "stdout"
        }
      ]
    },
    {
      "metadata": {
        "id": "Hu7IXpuECshf",
        "colab_type": "text"
      },
      "cell_type": "markdown",
      "source": [
        "## Testing of model and get accuracy "
      ]
    },
    {
      "metadata": {
        "id": "jkKwxfv14u8E",
        "colab_type": "code",
        "colab": {
          "base_uri": "https://localhost:8080/",
          "height": 34
        },
        "outputId": "bb7d4dcd-8963-4a96-c036-612c22791862"
      },
      "cell_type": "code",
      "source": [
        "with torch.no_grad():\n",
        "  correct=0\n",
        "  total=0\n",
        "  for (images,labels) in test_loader:\n",
        "    images=images.reshape(-1,28*28)\n",
        "    test_pred=model(images)\n",
        "    _, predicted = torch.max(test_pred.data, 1)\n",
        "    total += labels.size(0)\n",
        "    correct += (predicted == labels).sum()\n",
        "  print('Accuracy of the model on the 10000 test images: {:.4f} %'.format(100 * correct / total)) "
      ],
      "execution_count": 85,
      "outputs": [
        {
          "output_type": "stream",
          "text": [
            "Accuracy of the model on the 10000 test images: 82.0000 %\n"
          ],
          "name": "stdout"
        }
      ]
    },
    {
      "metadata": {
        "id": "6F2LajbNC2Ad",
        "colab_type": "text"
      },
      "cell_type": "markdown",
      "source": [
        "### looking at last loop values during testing"
      ]
    },
    {
      "metadata": {
        "id": "sLPI2Jx36_lR",
        "colab_type": "code",
        "colab": {
          "base_uri": "https://localhost:8080/",
          "height": 34
        },
        "outputId": "f101fa27-8804-46f0-abfe-213f18bce147"
      },
      "cell_type": "code",
      "source": [
        "correct"
      ],
      "execution_count": 86,
      "outputs": [
        {
          "output_type": "execute_result",
          "data": {
            "text/plain": [
              "tensor(8245)"
            ]
          },
          "metadata": {
            "tags": []
          },
          "execution_count": 86
        }
      ]
    },
    {
      "metadata": {
        "id": "mEXDbsVL7iJ_",
        "colab_type": "code",
        "colab": {
          "base_uri": "https://localhost:8080/",
          "height": 34
        },
        "outputId": "cb47c047-28e5-4b64-aa3d-35defb2db8ce"
      },
      "cell_type": "code",
      "source": [
        "predicted"
      ],
      "execution_count": 87,
      "outputs": [
        {
          "output_type": "execute_result",
          "data": {
            "text/plain": [
              "tensor([3, 6, 7, 5, 8, 2, 5, 6, 8, 9, 1, 9, 1, 8, 1, 5])"
            ]
          },
          "metadata": {
            "tags": []
          },
          "execution_count": 87
        }
      ]
    },
    {
      "metadata": {
        "id": "GpzXZa5T73t6",
        "colab_type": "code",
        "colab": {
          "base_uri": "https://localhost:8080/",
          "height": 34
        },
        "outputId": "35cea22c-7e35-42fc-e7fa-6dc05037fd07"
      },
      "cell_type": "code",
      "source": [
        "labels"
      ],
      "execution_count": 80,
      "outputs": [
        {
          "output_type": "execute_result",
          "data": {
            "text/plain": [
              "tensor([3, 2, 7, 5, 8, 4, 5, 6, 8, 9, 1, 9, 1, 8, 1, 5])"
            ]
          },
          "metadata": {
            "tags": []
          },
          "execution_count": 80
        }
      ]
    },
    {
      "metadata": {
        "id": "DT7ThzQC76II",
        "colab_type": "code",
        "colab": {
          "base_uri": "https://localhost:8080/",
          "height": 571
        },
        "outputId": "37b15691-b984-4e4d-9754-e8bcc64f57d4"
      },
      "cell_type": "code",
      "source": [
        "print(test_pred.size())\n",
        "print(test_pred)"
      ],
      "execution_count": 88,
      "outputs": [
        {
          "output_type": "stream",
          "text": [
            "torch.Size([16, 10])\n",
            "tensor([[ 3.2600,  0.4748, -0.9016,  5.6064,  0.4831, -5.4681,  1.5290, -2.9937,\n",
            "          0.5697, -2.7697],\n",
            "        [ 1.5648,  2.2307,  1.3192,  1.5371,  0.7073, -4.2182,  2.4052, -2.3944,\n",
            "         -1.0804, -1.6968],\n",
            "        [-4.3042, -3.4763, -2.6839, -2.4562, -2.0306,  4.4913, -2.6280,  8.1340,\n",
            "          1.4736,  3.2493],\n",
            "        [-0.7662, -2.3195, -1.2026, -1.9067, -1.9629,  6.6524, -1.6127,  0.1670,\n",
            "          1.7074,  1.0039],\n",
            "        [-2.1959, -3.2591, -0.1653, -2.9849, -1.1419,  1.9212,  0.0037,  1.5003,\n",
            "          6.0292,  0.3696],\n",
            "        [-0.0195, -0.4667,  5.5476,  1.4982,  4.9399, -3.4278,  3.8900, -6.4963,\n",
            "         -0.3119, -5.1007],\n",
            "        [ 0.8565, -1.9868, -1.5385, -2.4111, -3.0114,  8.2600, -0.1556, -2.3864,\n",
            "         -1.0567,  3.0901],\n",
            "        [ 2.3477, -0.1679,  3.3803,  0.9364,  2.0091, -2.4552,  3.8501, -5.3421,\n",
            "         -0.5165, -4.3494],\n",
            "        [-1.7313, -3.8683,  0.4177,  0.9123,  0.8410,  0.5729,  0.6010, -1.8710,\n",
            "          6.1591, -3.1143],\n",
            "        [-3.1366, -5.1700, -2.9360, -4.9246, -2.9538,  3.3548, -1.5473,  4.9605,\n",
            "          1.7042, 10.3541],\n",
            "        [ 1.1264,  9.5107,  0.5177,  3.1611,  1.9889, -7.1852, -1.6536, -2.1175,\n",
            "         -3.1214, -2.1316],\n",
            "        [-2.2900, -4.6968, -2.4824, -4.7840, -2.1623,  3.9494, -1.4405,  3.9340,\n",
            "          0.7603,  9.5290],\n",
            "        [ 0.6430,  5.8996,  1.3520,  2.3135,  1.1705, -3.8616, -1.2955, -1.9448,\n",
            "         -2.2217, -1.9209],\n",
            "        [ 2.1737, -4.1249, -0.9524,  2.5589,  0.4618, -1.3663,  2.3548, -2.5031,\n",
            "          4.1591, -2.6775],\n",
            "        [ 0.2562,  8.1222,  0.0169,  3.6816,  1.7608, -7.0070, -0.7485, -2.0001,\n",
            "         -3.1134, -1.0729],\n",
            "        [-2.6317, -2.0599, -0.9826, -1.9242, -0.2317,  3.8096, -0.9129,  2.9329,\n",
            "          1.0452,  1.2118]])\n"
          ],
          "name": "stdout"
        }
      ]
    }
  ]
}